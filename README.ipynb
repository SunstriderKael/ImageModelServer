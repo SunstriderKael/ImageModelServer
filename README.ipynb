{
 "cells": [
  {
   "cell_type": "markdown",
   "metadata": {},
   "source": [
    "# 中保车服数据中心模型服务说明文档\n",
    "## 1、部署\n",
    "### 环境配置"
   ]
  },
  {
   "cell_type": "code",
   "execution_count": null,
   "metadata": {
    "collapsed": true
   },
   "outputs": [],
   "source": [
    "pip install -r requirements.txt"
   ]
  },
  {
   "cell_type": "markdown",
   "metadata": {},
   "source": [
    "### 运行服务\n",
    "cd 到image_serv目录下，然后输入以下命令运行服务，若出现如下图结果则运行成功；"
   ]
  },
  {
   "cell_type": "code",
   "execution_count": null,
   "metadata": {
    "collapsed": true
   },
   "outputs": [],
   "source": [
    "python manage.py runserver 0.0.0.0:35600"
   ]
  },
  {
   "cell_type": "markdown",
   "metadata": {},
   "source": [
    "<img src=\"1.png\">\n",
    "\n",
    "## 2、卡证分类\n",
    "接口详情见docs下数据平台模型SDK文档.docx中卡证分类部分；\n",
    "## 3、图像反欺诈\n",
    "接口详情见docs下数据平台模型SDK文档.docx中卡图像反欺诈部分；\n",
    "### 接口测试代码\n",
    "测试代码见retrieval下test.py，示例如下："
   ]
  },
  {
   "cell_type": "code",
   "execution_count": null,
   "metadata": {
    "collapsed": true
   },
   "outputs": [],
   "source": [
    "if __name__ == '__main__':\n",
    "    # test_add_feature(r'D:\\gyz\\ImageRetrieval\\data\\2020-05-12\\fuben')\n",
    "    # test_global_retrieval(r'D:\\gyz\\ImageRetrieval\\data\\2020-05-12\\zhuben')\n",
    "    test_retrieval(r'D:\\gyz\\ImageRetrieval\\data\\2020-05-12\\zhuben')"
   ]
  }
 ],
 "metadata": {
  "kernelspec": {
   "display_name": "Python 3",
   "language": "python",
   "name": "python3"
  },
  "language_info": {
   "codemirror_mode": {
    "name": "ipython",
    "version": 3
   },
   "file_extension": ".py",
   "mimetype": "text/x-python",
   "name": "python",
   "nbconvert_exporter": "python",
   "pygments_lexer": "ipython3",
   "version": "3.6.10"
  }
 },
 "nbformat": 4,
 "nbformat_minor": 2
}
